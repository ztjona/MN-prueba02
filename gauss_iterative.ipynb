{
 "cells": [
  {
   "cell_type": "code",
   "execution_count": 39,
   "metadata": {},
   "outputs": [
    {
     "name": "stdout",
     "output_type": "stream",
     "text": [
      "The autoreload extension is already loaded. To reload it, use:\n",
      "  %reload_ext autoreload\n"
     ]
    }
   ],
   "source": [
    "%load_ext autoreload"
   ]
  },
  {
   "cell_type": "markdown",
   "metadata": {},
   "source": [
    "# Examen\n",
    "## Gauss-Jacobi y Gauss-Seidel"
   ]
  },
  {
   "cell_type": "code",
   "execution_count": 40,
   "metadata": {},
   "outputs": [
    {
     "name": "stdout",
     "output_type": "stream",
     "text": [
      "[07-19 16:56:25][INFO] \n",
      "[[ 1.  1.  7.]\n",
      " [ 0.  7. 14.]]\n"
     ]
    },
    {
     "data": {
      "text/plain": [
       "array([5., 2.])"
      ]
     },
     "execution_count": 40,
     "metadata": {},
     "output_type": "execute_result"
    }
   ],
   "source": [
    "%autoreload 2\n",
    "from src import eliminacion_gaussiana, matriz_aumentada\n",
    "A = [[1, 1], [-2, 5]]\n",
    "b = [7, 0]\n",
    "eliminacion_gaussiana(matriz_aumentada(A, b))"
   ]
  },
  {
   "cell_type": "code",
   "execution_count": 41,
   "metadata": {},
   "outputs": [
    {
     "name": "stdout",
     "output_type": "stream",
     "text": [
      "[07-19 16:56:25][INFO] i= 0 x: [0. 0.]\n",
      "[07-19 16:56:25][INFO] i= 1 x: [[7. 0.]]\n",
      "[07-19 16:56:25][INFO] i= 2 x: [[7.  2.8]]\n",
      "[07-19 16:56:25][INFO] i= 3 x: [[4.2 2.8]]\n",
      "[07-19 16:56:25][INFO] i= 4 x: [[4.2  1.68]]\n",
      "[07-19 16:56:25][INFO] i= 5 x: [[5.32 1.68]]\n",
      "[07-19 16:56:25][INFO] i= 6 x: [[5.32  2.128]]\n",
      "[07-19 16:56:25][INFO] i= 7 x: [[4.872 2.128]]\n",
      "[07-19 16:56:25][INFO] i= 8 x: [[4.872  1.9488]]\n",
      "[07-19 16:56:25][INFO] i= 9 x: [[5.0512 1.9488]]\n",
      "[07-19 16:56:25][INFO] i= 10 x: [[5.0512  2.02048]]\n",
      "[07-19 16:56:25][INFO] i= 11 x: [[4.97952 2.02048]]\n",
      "[07-19 16:56:25][INFO] i= 12 x: [[4.97952  1.991808]]\n",
      "[07-19 16:56:25][INFO] i= 13 x: [[5.008192 1.991808]]\n",
      "[07-19 16:56:25][INFO] i= 14 x: [[5.008192  2.0032768]]\n",
      "[07-19 16:56:25][INFO] i= 15 x: [[4.9967232 2.0032768]]\n",
      "[07-19 16:56:25][INFO] i= 16 x: [[4.9967232  1.99868928]]\n",
      "[07-19 16:56:25][INFO] i= 17 x: [[5.00131072 1.99868928]]\n",
      "[07-19 16:56:25][INFO] i= 18 x: [[5.00131072 2.00052429]]\n",
      "[07-19 16:56:25][INFO] i= 19 x: [[4.99947571 2.00052429]]\n",
      "[07-19 16:56:25][INFO] i= 20 x: [[4.99947571 1.99979028]]\n",
      "[07-19 16:56:25][INFO] i= 21 x: [[5.00020972 1.99979028]]\n",
      "[07-19 16:56:25][INFO] i= 22 x: [[5.00020972 2.00008389]]\n",
      "[07-19 16:56:25][INFO] i= 23 x: [[4.99991611 2.00008389]]\n",
      "[07-19 16:56:25][INFO] i= 24 x: [[4.99991611 1.99996645]]\n",
      "[07-19 16:56:25][INFO] i= 25 x: [[5.00003355 1.99996645]]\n",
      "[07-19 16:56:25][INFO] i= 26 x: [[5.00003355 2.00001342]]\n",
      "[07-19 16:56:25][INFO] i= 27 x: [[4.99998658 2.00001342]]\n",
      "[07-19 16:56:25][INFO] i= 28 x: [[4.99998658 1.99999463]]\n",
      "[07-19 16:56:25][INFO] i= 29 x: [[5.00000537 1.99999463]]\n"
     ]
    },
    {
     "data": {
      "text/plain": [
       "array([[5.00000537],\n",
       "       [2.00000215]])"
      ]
     },
     "execution_count": 41,
     "metadata": {},
     "output_type": "execute_result"
    }
   ],
   "source": [
    "%autoreload 2\n",
    "from src import gauss_jacobi\n",
    "A = [[1, 1], [-2, 5]]\n",
    "b = [7, 0]\n",
    "n = len(A)\n",
    "\n",
    "gauss_jacobi(A=A, b=b, x0=[0]*n, tol=1e-5, max_iter=1000)\n"
   ]
  },
  {
   "cell_type": "markdown",
   "metadata": {},
   "source": [
    "\n",
    "![alt text](assets/trayectoria.png)\n"
   ]
  },
  {
   "cell_type": "markdown",
   "metadata": {},
   "source": [
    "## Grafique"
   ]
  },
  {
   "cell_type": "code",
   "execution_count": null,
   "metadata": {},
   "outputs": [],
   "source": []
  },
  {
   "cell_type": "markdown",
   "metadata": {},
   "source": [
    "## Use otra estimación inicial\n",
    "$ x_0 = (1, 1)$"
   ]
  },
  {
   "cell_type": "markdown",
   "metadata": {},
   "source": [
    "# Grafique"
   ]
  },
  {
   "cell_type": "code",
   "execution_count": null,
   "metadata": {},
   "outputs": [],
   "source": []
  },
  {
   "cell_type": "markdown",
   "metadata": {},
   "source": [
    "## Gauss-Seidel"
   ]
  },
  {
   "cell_type": "code",
   "execution_count": 42,
   "metadata": {},
   "outputs": [
    {
     "name": "stdout",
     "output_type": "stream",
     "text": [
      "[07-19 16:56:25][INFO] i= 0 x: [0. 0.]\n",
      "[07-19 16:56:25][INFO] i= 1 x: [[7.  2.8]]\n",
      "[07-19 16:56:25][INFO] i= 2 x: [[4.2  1.68]]\n",
      "[07-19 16:56:25][INFO] i= 3 x: [[5.32  2.128]]\n",
      "[07-19 16:56:25][INFO] i= 4 x: [[4.872  1.9488]]\n",
      "[07-19 16:56:25][INFO] i= 5 x: [[5.0512  2.02048]]\n",
      "[07-19 16:56:25][INFO] i= 6 x: [[4.97952  1.991808]]\n",
      "[07-19 16:56:25][INFO] i= 7 x: [[5.008192  2.0032768]]\n",
      "[07-19 16:56:25][INFO] i= 8 x: [[4.9967232  1.99868928]]\n",
      "[07-19 16:56:25][INFO] i= 9 x: [[5.00131072 2.00052429]]\n",
      "[07-19 16:56:25][INFO] i= 10 x: [[4.99947571 1.99979028]]\n",
      "[07-19 16:56:25][INFO] i= 11 x: [[5.00020972 2.00008389]]\n",
      "[07-19 16:56:25][INFO] i= 12 x: [[4.99991611 1.99996645]]\n",
      "[07-19 16:56:25][INFO] i= 13 x: [[5.00003355 2.00001342]]\n",
      "[07-19 16:56:25][INFO] i= 14 x: [[4.99998658 1.99999463]]\n",
      "[07-19 16:56:25][INFO] i= 15 x: [[5.00000537 2.00000215]]\n"
     ]
    },
    {
     "data": {
      "text/plain": [
       "array([[4.99999785],\n",
       "       [1.99999914]])"
      ]
     },
     "execution_count": 42,
     "metadata": {},
     "output_type": "execute_result"
    }
   ],
   "source": [
    "%autoreload 2\n",
    "from src import gauss_seidel\n",
    "# ---------- \n",
    "A = [[1, 1], [-2, 5]]\n",
    "b = [7, 0]\n",
    "n = len(b)\n",
    "gauss_seidel(A=A, b=b, x0=[0]*n, tol=1e-5, max_iter=1000)\n"
   ]
  },
  {
   "cell_type": "markdown",
   "metadata": {},
   "source": [
    "## Grafique el método de Gauss-Seidel\n"
   ]
  },
  {
   "cell_type": "code",
   "execution_count": null,
   "metadata": {},
   "outputs": [],
   "source": []
  },
  {
   "cell_type": "markdown",
   "metadata": {},
   "source": [
    "# Resuelva\n",
    "\n",
    "$ x_1 + x_2 = 6$\n",
    "\n",
    "$  -2 x_1 +  x_2 = 0$"
   ]
  },
  {
   "cell_type": "code",
   "execution_count": null,
   "metadata": {},
   "outputs": [],
   "source": []
  }
 ],
 "metadata": {
  "kernelspec": {
   "display_name": "Python 3",
   "language": "python",
   "name": "python3"
  },
  "language_info": {
   "codemirror_mode": {
    "name": "ipython",
    "version": 3
   },
   "file_extension": ".py",
   "mimetype": "text/x-python",
   "name": "python",
   "nbconvert_exporter": "python",
   "pygments_lexer": "ipython3",
   "version": "3.10.11"
  }
 },
 "nbformat": 4,
 "nbformat_minor": 2
}
